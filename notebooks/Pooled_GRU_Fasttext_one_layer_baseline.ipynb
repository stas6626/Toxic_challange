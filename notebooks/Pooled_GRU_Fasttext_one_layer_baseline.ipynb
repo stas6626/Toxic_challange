{
 "cells": [
  {
   "cell_type": "code",
   "execution_count": 1,
   "metadata": {},
   "outputs": [
    {
     "name": "stderr",
     "output_type": "stream",
     "text": [
      "/media/stas/fastdata/anaconda3/lib/python3.6/site-packages/h5py/__init__.py:34: FutureWarning: Conversion of the second argument of issubdtype from `float` to `np.floating` is deprecated. In future, it will be treated as `np.float64 == np.dtype(float).type`.\n",
      "  from ._conv import register_converters as _register_converters\n",
      "Using TensorFlow backend.\n"
     ]
    }
   ],
   "source": [
    "import numpy as np\n",
    "np.random.seed(42)\n",
    "import pandas as pd\n",
    "import re\n",
    "from sklearn.model_selection import train_test_split, StratifiedKFold, KFold\n",
    "from sklearn.metrics import roc_auc_score\n",
    "\n",
    "from keras.optimizers import Adam\n",
    "from keras.models import Model\n",
    "from keras.layers import Input, Dense, Embedding, SpatialDropout1D, concatenate\n",
    "from keras.layers import GRU, Bidirectional, GlobalAveragePooling1D, GlobalMaxPooling1D, CuDNNGRU\n",
    "from keras.preprocessing import text, sequence\n",
    "from keras.callbacks import Callback, ModelCheckpoint, EarlyStopping\n",
    "from keras import backend as K\n",
    "\n",
    "import os\n",
    "os.environ['OMP_NUM_THREADS'] = '16'\n",
    "\n",
    "import warnings\n",
    "warnings.filterwarnings('ignore')\n",
    "\n",
    "EMBEDDING_FILE = './data/crawl-300d-2M.vec'\n",
    "\n",
    "train = pd.read_csv('./data/train.csv.zip')\n",
    "test = pd.read_csv('./data/test.csv.zip')\n",
    "submission = pd.read_csv('./data/sample_submission.csv.zip')\n",
    "\n",
    "X_train = train[\"comment_text\"].fillna(\"fillna\").values\n",
    "y_train = train[[\"toxic\", \"severe_toxic\", \"obscene\", \"threat\", \"insult\", \"identity_hate\"]].values\n",
    "X_test = test[\"comment_text\"].fillna(\"fillna\").values"
   ]
  },
  {
   "cell_type": "code",
   "execution_count": 2,
   "metadata": {},
   "outputs": [],
   "source": [
    "max_features = 30000\n",
    "maxlen = 100\n",
    "embed_size = 300\n",
    "\n",
    "tokenizer = text.Tokenizer(num_words=max_features)\n",
    "tokenizer.fit_on_texts(list(X_train) + list(X_test))\n",
    "X_train = tokenizer.texts_to_sequences(X_train)\n",
    "X_test = tokenizer.texts_to_sequences(X_test)\n",
    "x_train = sequence.pad_sequences(X_train, maxlen=maxlen)\n",
    "x_test = sequence.pad_sequences(X_test, maxlen=maxlen)"
   ]
  },
  {
   "cell_type": "code",
   "execution_count": 4,
   "metadata": {},
   "outputs": [],
   "source": [
    "def get_coefs(word, *arr): return word, np.asarray(arr, dtype='float32')\n",
    "embeddings_index = dict(get_coefs(*o.rstrip().rsplit(' ')) for o in open(EMBEDDING_FILE))\n",
    "\n",
    "word_index = tokenizer.word_index\n",
    "nb_words = min(max_features, len(word_index))\n",
    "embedding_matrix = np.zeros((nb_words, embed_size))\n",
    "for word, i in word_index.items():\n",
    "    if i >= max_features: continue\n",
    "    embedding_vector = embeddings_index.get(word)\n",
    "    if embedding_vector is not None: embedding_matrix[i] = embedding_vector\n"
   ]
  },
  {
   "cell_type": "code",
   "execution_count": 24,
   "metadata": {},
   "outputs": [],
   "source": [
    "class RocAucEvaluation(Callback):\n",
    "    def __init__(self, validation_data=(), interval=1):\n",
    "        super(Callback, self).__init__()\n",
    "\n",
    "        self.interval = interval\n",
    "        self.X_val, self.y_val = validation_data\n",
    "\n",
    "    def on_epoch_end(self, epoch, logs={}):\n",
    "        if epoch % self.interval == 0:\n",
    "            y_pred = self.model.predict(self.X_val, verbose=0)\n",
    "            score = roc_auc_score(self.y_val, y_pred)\n",
    "            print(\"\\n ROC-AUC - epoch: %d - score: %.6f \\n\" % (epoch+1, score))\n",
    "\n",
    "\n",
    "def get_model():\n",
    "    inp = Input(shape=(maxlen, ))\n",
    "    x = Embedding(max_features, embed_size, weights=[embedding_matrix])(inp)\n",
    "    x = SpatialDropout1D(0.4)(x)\n",
    "    x = Bidirectional(CuDNNGRU(80, return_sequences=True))(x)\n",
    "    x = SpatialDropout1D(0.4)(x)\n",
    "    x = Bidirectional(CuDNNGRU(100, return_sequences=True))(x)\n",
    "    x = SpatialDropout1D(0.4)(x)\n",
    "    x = Bidirectional(CuDNNGRU(80, return_sequences=True))(x)\n",
    "    avg_pool = GlobalAveragePooling1D()(x)\n",
    "    max_pool = GlobalMaxPooling1D()(x)\n",
    "    conc = concatenate([avg_pool, max_pool])\n",
    "    outp = Dense(6, activation=\"sigmoid\")(conc)\n",
    "    \n",
    "    model = Model(inputs=inp, outputs=outp)\n",
    "    adam = Adam(lr=0.0002, decay=0.000002)\n",
    "    model.compile(loss='binary_crossentropy',\n",
    "                  optimizer=adam,\n",
    "                  metrics=['accuracy'])\n",
    "\n",
    "    return model"
   ]
  },
  {
   "cell_type": "code",
   "execution_count": null,
   "metadata": {},
   "outputs": [],
   "source": [
    "%%time\n",
    "gru_for_stack = pd.DataFrame.from_dict({'id': train['id'],\n",
    "                                        \"toxic\":0,\n",
    "                                        \"severe_toxic\":0,\n",
    "                                        \"obscene\":0,\n",
    "                                        \"threat\":0,\n",
    "                                        \"insult\":0,\n",
    "                                        \"identity_hate\":0})\n",
    "\n",
    "batch_size = 1000\n",
    "epochs = 20\n",
    "cv = KFold(n_splits=10, random_state=0, shuffle=True)\n",
    "i = 0\n",
    "\n",
    "for train_index, test_index in cv.split(x_train, y_train):\n",
    "    X_tra, X_test = x_train[train_index], x_train[test_index]\n",
    "    y_tra, y_test = y_train[train_index], y_train[test_index]\n",
    "    i += 1\n",
    "    \n",
    "    model = get_model()\n",
    "    file_path=f\"./additional_matiriels/weights_base_gru_80_0.4_100_0.4_80_0.4_fasttext_layers_fold_{i}.best.hdf5\"\n",
    "    checkpoint = ModelCheckpoint(file_path, monitor='val_loss', verbose=1, save_best_only=True, mode='min')\n",
    "\n",
    "    early = EarlyStopping(monitor=\"val_loss\", mode=\"min\", patience=3)\n",
    "    callbacks_list = [checkpoint, early] #early\n",
    "    #exp_decay = lambda init, fin, steps: (init/fin)**(1/(steps-1)) - 1\n",
    "    #steps = int(len(X_tra)/batch_size) * epochs\n",
    "    #lr_init, lr_fin = 0.001, 0.0005\n",
    "    #lr_decay = exp_decay(lr_init, lr_fin, steps)\n",
    "    #K.set_value(model.optimizer.lr, lr_init)\n",
    "    #K.set_value(model.optimizer.decay, lr_decay)\n",
    "\n",
    "    hist = model.fit(X_tra, y_tra, batch_size=batch_size, epochs=epochs, callbacks=callbacks_list, verbose=2, validation_data=(X_test, y_test))\n",
    "\n",
    "    model.load_weights(file_path)\n",
    "\n",
    "    y_pred = model.predict(X_test, batch_size=1024)\n",
    "    gru_for_stack.loc[test_index,[\"toxic\", \"severe_toxic\", \"obscene\", \"threat\", \"insult\", \"identity_hate\"]] = y_pred\n",
    "gru_for_stack.to_csv('./submits/gru_80_0.4_100_0.4_80_0.4_fasttext_stack_layer.csv', index=False)"
   ]
  },
  {
   "cell_type": "code",
   "execution_count": null,
   "metadata": {},
   "outputs": [
    {
     "name": "stdout",
     "output_type": "stream",
     "text": [
      "Train on 151592 samples, validate on 7979 samples\n",
      "Epoch 1/50\n",
      " - 35s - loss: 0.1995 - acc: 0.9393 - val_loss: 0.0998 - val_acc: 0.9659\n",
      "\n",
      "Epoch 00001: val_loss improved from inf to 0.09977, saving model to ./additional_matiriels/weights_base_gru_80_0.4_100_0.4_80_0.4_fasttext_layers_submit.best.hdf5\n",
      "Epoch 2/50\n",
      " - 32s - loss: 0.0703 - acc: 0.9756 - val_loss: 0.0517 - val_acc: 0.9815\n",
      "\n",
      "Epoch 00002: val_loss improved from 0.09977 to 0.05166, saving model to ./additional_matiriels/weights_base_gru_80_0.4_100_0.4_80_0.4_fasttext_layers_submit.best.hdf5\n",
      "Epoch 3/50\n",
      " - 32s - loss: 0.0546 - acc: 0.9806 - val_loss: 0.0473 - val_acc: 0.9826\n",
      "\n",
      "Epoch 00003: val_loss improved from 0.05166 to 0.04727, saving model to ./additional_matiriels/weights_base_gru_80_0.4_100_0.4_80_0.4_fasttext_layers_submit.best.hdf5\n",
      "Epoch 4/50\n"
     ]
    }
   ],
   "source": [
    "%%time\n",
    "batch_size = 1000\n",
    "epochs = 50\n",
    "\n",
    "model = get_model()\n",
    "X_tra, X_val, y_tra, y_val = train_test_split(x_train, y_train, train_size=0.95, random_state=0)\n",
    "model = get_model()\n",
    "file_path=f\"./additional_matiriels/weights_base_gru_80_0.4_100_0.4_80_0.4_fasttext_layers_submit.best.hdf5\"\n",
    "checkpoint = ModelCheckpoint(file_path, monitor='val_loss', verbose=1, save_best_only=True, mode='min')\n",
    "\n",
    "early = EarlyStopping(monitor=\"val_loss\", mode=\"min\", patience=3)\n",
    "callbacks_list = [checkpoint, early] #earlyist = model.fit(X_tra, y_tra, batch_size=batch_size, epochs=epochs, callbacks=callbacks_list, validation_data=(X_test, y_test))\n",
    "hist = model.fit(X_tra, y_tra, batch_size=batch_size, epochs=epochs, callbacks=callbacks_list, validation_data=(X_val, y_val), verbose=2)\n",
    "\n",
    "model.load_weights(file_path)\n",
    "y_pred = model.predict(x_test, batch_size=1024)\n",
    "submission[[\"toxic\", \"severe_toxic\", \"obscene\", \"threat\", \"insult\", \"identity_hate\"]] = y_pred\n",
    "submission.to_csv('./submits/gru_80_0.4_100_0.4_80_0.4_fasttext_layers_submit.csv', index=False)"
   ]
  },
  {
   "cell_type": "code",
   "execution_count": null,
   "metadata": {},
   "outputs": [],
   "source": [
    "!shutdown now"
   ]
  },
  {
   "cell_type": "code",
   "execution_count": null,
   "metadata": {},
   "outputs": [],
   "source": []
  }
 ],
 "metadata": {
  "kernelspec": {
   "display_name": "Python 3",
   "language": "python",
   "name": "python3"
  },
  "language_info": {
   "codemirror_mode": {
    "name": "ipython",
    "version": 3
   },
   "file_extension": ".py",
   "mimetype": "text/x-python",
   "name": "python",
   "nbconvert_exporter": "python",
   "pygments_lexer": "ipython3",
   "version": "3.6.4"
  }
 },
 "nbformat": 4,
 "nbformat_minor": 2
}
